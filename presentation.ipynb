{
 "cells": [
  {
   "attachments": {},
   "cell_type": "markdown",
   "metadata": {},
   "source": [
    "# The Functools Module\n",
    "\n",
    "The `functools` module provides functions that act on other functions. It's a bit of a random assortment of utilities that do very different things, but they do it in a sort of similar way.\n",
    "\n",
    "What's covered here is what I personally thought was useful or interesting. There is more to the `functools` module, which you can read about in the Python docs [here](https://docs.python.org/3/library/functools.html). Here's what *is* in this presentation: \n",
    "\n",
    "1. Background\n",
    "2. `reduce`\n",
    "3. `partial`\n",
    "4. `cache`\n",
    "5. `lru_cache`\n",
    "6. `singledispatch`\n",
    "\n",
    "Much of what's left is identical to what's here, except the decorators apply to instance methods, not functions (more on that later). The last bits of functionality that aren't covered by those parallels have to do with updating docstrings for wrapped functions on the fly (`@wraps`) and an esoteric way to create key functions (`@cmp_to_key`). "
   ]
  },
  {
   "attachments": {},
   "cell_type": "markdown",
   "metadata": {},
   "source": [
    "## A little background review\n",
    "\n",
    "In Python, functions are \"first class objects\", meaning that you can pass them around in code just like other data types.\n",
    "\n",
    "In this example, we'll create a function whose job it is to call another function. \n",
    "\n"
   ]
  },
  {
   "cell_type": "code",
   "execution_count": 8,
   "metadata": {},
   "outputs": [
    {
     "ename": "AttributeError",
     "evalue": "'int' object has no attribute '__name__'",
     "output_type": "error",
     "traceback": [
      "\u001b[1;31m---------------------------------------------------------------------------\u001b[0m",
      "\u001b[1;31mAttributeError\u001b[0m                            Traceback (most recent call last)",
      "Cell \u001b[1;32mIn[8], line 16\u001b[0m\n\u001b[0;32m     10\u001b[0m     \u001b[39mreturn\u001b[39;00m random\u001b[39m.\u001b[39mrandint(\u001b[39m0\u001b[39m, \u001b[39m100\u001b[39m)\n\u001b[0;32m     12\u001b[0m \u001b[39m# function_caller(get_random_number)\u001b[39;00m\n\u001b[0;32m     13\u001b[0m \n\u001b[0;32m     14\u001b[0m \u001b[39m# remember that when you pass functions around,\u001b[39;00m\n\u001b[0;32m     15\u001b[0m \u001b[39m# you should pass a reference to the function, not call it!\u001b[39;00m\n\u001b[1;32m---> 16\u001b[0m function_caller(get_random_number()) \n",
      "Cell \u001b[1;32mIn[8], line 5\u001b[0m, in \u001b[0;36mfunction_caller\u001b[1;34m(other_function)\u001b[0m\n\u001b[0;32m      3\u001b[0m \u001b[39mdef\u001b[39;00m \u001b[39mfunction_caller\u001b[39m(other_function):\n\u001b[0;32m      4\u001b[0m \u001b[39m    \u001b[39m\u001b[39m\"\"\" Accepts a function, announces it will run the function, then run it \"\"\"\u001b[39;00m\n\u001b[1;32m----> 5\u001b[0m     \u001b[39mprint\u001b[39m(\u001b[39mf\u001b[39m\u001b[39m\"\u001b[39m\u001b[39mAbout to run the function \u001b[39m\u001b[39m'\u001b[39m\u001b[39m{\u001b[39;00mother_function\u001b[39m.\u001b[39;49m\u001b[39m__name__\u001b[39;49m\u001b[39m}\u001b[39;00m\u001b[39m'\u001b[39m\u001b[39m!\u001b[39m\u001b[39m\\n\u001b[39;00m\u001b[39m\"\u001b[39m)\n\u001b[0;32m      6\u001b[0m     result \u001b[39m=\u001b[39m other_function()\n\u001b[0;32m      7\u001b[0m     \u001b[39mprint\u001b[39m(\u001b[39mf\u001b[39m\u001b[39m\"\u001b[39m\u001b[39mRan \u001b[39m\u001b[39m'\u001b[39m\u001b[39m{\u001b[39;00mother_function\u001b[39m.\u001b[39m\u001b[39m__name__\u001b[39m\u001b[39m}\u001b[39;00m\u001b[39m'\u001b[39m\u001b[39m and the result was: \u001b[39m\u001b[39m{\u001b[39;00mresult\u001b[39m}\u001b[39;00m\u001b[39m\"\u001b[39m)\n",
      "\u001b[1;31mAttributeError\u001b[0m: 'int' object has no attribute '__name__'"
     ]
    }
   ],
   "source": [
    "import random\n",
    "\n",
    "def function_caller(other_function):\n",
    "    \"\"\" Accepts a function, announces it will run the function, then run it \"\"\"\n",
    "    print(f\"About to run the function '{other_function.__name__}'!\\n\")\n",
    "    result = other_function()\n",
    "    print(f\"Ran '{other_function.__name__}' and the result was: {result}\")\n",
    "\n",
    "def get_random_number():\n",
    "    return random.randint(0, 100)\n",
    "\n",
    "# function_caller(get_random_number)\n",
    "\n",
    "# remember that when you pass functions around,\n",
    "# you should pass a reference to the function, not call it!\n",
    "function_caller(get_random_number) \n",
    "\n"
   ]
  },
  {
   "attachments": {},
   "cell_type": "markdown",
   "metadata": {},
   "source": [
    "Notice that we pass a *reference* to `get_random_number`, not the result of it. If we did that, the function would fail. In this case, it fails with an `AttributeError` on the very first line, since an `int` does not have a `__name__` attribute."
   ]
  },
  {
   "attachments": {},
   "cell_type": "markdown",
   "metadata": {},
   "source": [
    "One other concept that's going to be helpful in learning `functools` is decorators. Decorators are a nice shorthand way to write **functions that return other functions**. Let's say you want some function to only run on a certain day of the week, but you can't or don't want to check the time manually everywhere it's called. You could wrap each call in another function that checks whether it can run:"
   ]
  },
  {
   "cell_type": "code",
   "execution_count": 10,
   "metadata": {},
   "outputs": [
    {
     "name": "stdout",
     "output_type": "stream",
     "text": [
      "Could not run say_hello, it's not Thursday!\n"
     ]
    }
   ],
   "source": [
    "import time\n",
    "\n",
    "def only_run_on_thursday(other_function):\n",
    "    \"\"\" Checks whether it's Thursday, and if so, calls its argument\"\"\"\n",
    "    if time.localtime().tm_wday == 3: # range [0, 6], Monday is 0\n",
    "        other_function()\n",
    "    else: \n",
    "        print(f\"Could not run {other_function.__name__}, it's not Thursday!\")\n",
    "    \n",
    "def say_hello():\n",
    "    print(\"Hello there!\")\n",
    "\n",
    "only_run_on_thursday(say_hello)"
   ]
  },
  {
   "attachments": {},
   "cell_type": "markdown",
   "metadata": {},
   "source": [
    "That's a little clunky, so Python introduced decorators to eliminate some of that wordiness. We can get exactly the same functionality as above with the following code:"
   ]
  },
  {
   "cell_type": "code",
   "execution_count": 11,
   "metadata": {},
   "outputs": [
    {
     "name": "stdout",
     "output_type": "stream",
     "text": [
      "Hello there!\n"
     ]
    }
   ],
   "source": [
    "import time\n",
    "\n",
    "def only_run_on_thursday(other_function):\n",
    "    def wrapper():\n",
    "        if time.localtime().tm_wday == 3: # range [0, 6], Monday is 0\n",
    "            other_function()\n",
    "        else: \n",
    "            print(f\"Could not run {other_function.__name__}, it's not Thursday!\")\n",
    "    return wrapper\n",
    "    \n",
    "@only_run_on_thursday\n",
    "def say_hello():\n",
    "    print(\"Hello there!\")\n",
    "\n",
    "say_hello()"
   ]
  },
  {
   "attachments": {},
   "cell_type": "markdown",
   "metadata": {},
   "source": [
    "This is nice, because callers of `say_hello` don't have to worry about whether it's Thursday or not. They can just call the function, and the decorator will take care of doing the time check every time. \n",
    "\n",
    "There's a lot of technical detail in exactly *how* this happens under the surface, but that's beyond the scope of this presentation. "
   ]
  },
  {
   "attachments": {},
   "cell_type": "markdown",
   "metadata": {},
   "source": [
    "## Common Use Cases\n",
    "\n",
    "### functools.reduce\n",
    "\n",
    "When is passing functions around useful? Sometimes when you want to invoke a function many times on a set of arguments!\n",
    "\n",
    "For example, you might want to `reduce` a set of numbers to a single value. A common example for teaching this is to get the product of a list of numbers, but we'll do something a little more interesting.\n",
    "\n",
    "Let's reduce a list using an algorithm that adds even numbers and subtracts odd numbers:"
   ]
  },
  {
   "cell_type": "code",
   "execution_count": 15,
   "metadata": {},
   "outputs": [
    {
     "data": {
      "text/plain": [
       "0"
      ]
     },
     "execution_count": 15,
     "metadata": {},
     "output_type": "execute_result"
    }
   ],
   "source": [
    "import functools\n",
    "\n",
    "def add_evens_subtract_odds(current_value, next_value):\n",
    "    print(f\"Current: {current_value} \\t Next: {next_value}\")\n",
    "    if next_value % 2 == 0:\n",
    "        return current_value + next_value\n",
    "    return current_value - next_value\n",
    "\n",
    "numbers = [6, 5, 2, 1]\n",
    "\n",
    "# result = functools.reduce(add_evens_subtract_odds, numbers)\n",
    "\n",
    "# reduce also accepts a starting value:\n",
    "# result = functools.reduce(add_evens_subtract_odds, numbers, 10)\n",
    "\n",
    "# it's a good idea to use a default, because passing an empty list\n",
    "# to `reduce` results in an error:\n",
    "functools.reduce(add_evens_subtract_odds, [], 0)\n"
   ]
  },
  {
   "attachments": {},
   "cell_type": "markdown",
   "metadata": {},
   "source": [
    "It's a little weird that Python doesn't provide this as a built-in. Such is life! "
   ]
  },
  {
   "attachments": {},
   "cell_type": "markdown",
   "metadata": {},
   "source": [
    "# functools.partial\n",
    "\n",
    "Sometimes you want to temporarily redefine a function with specific arguments. This can be handy if you want to use a generic function in a specific way. Calling `functools.partial` will return a new function with some of the arguments pre-defined.\n",
    "\n",
    "Here's an academic example:"
   ]
  },
  {
   "cell_type": "code",
   "execution_count": 18,
   "metadata": {},
   "outputs": [
    {
     "data": {
      "text/plain": [
       "11"
      ]
     },
     "execution_count": 18,
     "metadata": {},
     "output_type": "execute_result"
    }
   ],
   "source": [
    "def add_two_numbers(a, b, third=0):\n",
    "    return a + b\n",
    "\n",
    "add_ten = functools.partial(add_two_numbers, 10, third=7)\n",
    "add_ten(1) # should print 11"
   ]
  },
  {
   "attachments": {},
   "cell_type": "markdown",
   "metadata": {},
   "source": [
    "The `partial` function returns a `partial` object. If you want, you can inspect it to see what's going on under the surface:"
   ]
  },
  {
   "cell_type": "code",
   "execution_count": 20,
   "metadata": {},
   "outputs": [
    {
     "ename": "AttributeError",
     "evalue": "'function' object has no attribute 'func'",
     "output_type": "error",
     "traceback": [
      "\u001b[1;31m---------------------------------------------------------------------------\u001b[0m",
      "\u001b[1;31mAttributeError\u001b[0m                            Traceback (most recent call last)",
      "Cell \u001b[1;32mIn[20], line 7\u001b[0m\n\u001b[0;32m      1\u001b[0m \u001b[39m# print(add_ten)\u001b[39;00m\n\u001b[0;32m      2\u001b[0m \u001b[39m# print(\"Original function:\\t\", add_ten.func)\u001b[39;00m\n\u001b[0;32m      3\u001b[0m \u001b[39m# print(\"Fixed arguments:\\t\", add_ten.args)\u001b[39;00m\n\u001b[0;32m      4\u001b[0m \u001b[39m# print(\"Fixed keywords:\\t\\t\", add_ten.keywords)\u001b[39;00m\n\u001b[0;32m      5\u001b[0m \n\u001b[0;32m      6\u001b[0m \u001b[39m# note that these are attributes added by `partial`. If you look for them on the original function, they don't exist:\u001b[39;00m\n\u001b[1;32m----> 7\u001b[0m \u001b[39mprint\u001b[39m(add_two_numbers\u001b[39m.\u001b[39;49mfunc) \u001b[39m# Attribute error!\u001b[39;00m\n",
      "\u001b[1;31mAttributeError\u001b[0m: 'function' object has no attribute 'func'"
     ]
    }
   ],
   "source": [
    "# print(add_ten)\n",
    "print(\"Original function:\\t\", add_ten.func)\n",
    "print(\"Fixed arguments:\\t\", add_ten.args)\n",
    "print(\"Fixed keywords:\\t\\t\", add_ten.keywords)\n",
    "\n",
    "# note that these are attributes added by `partial`. If you look for them on the original function, they don't exist:\n",
    "# print(add_two_numbers.func) # Attribute error!\n"
   ]
  },
  {
   "attachments": {},
   "cell_type": "markdown",
   "metadata": {},
   "source": [
    "Here's a more practial example, direct from the Python docs. It creates a function that parses a string into a base 2 number instead of the default base 10:"
   ]
  },
  {
   "cell_type": "code",
   "execution_count": 21,
   "metadata": {},
   "outputs": [
    {
     "name": "stdout",
     "output_type": "stream",
     "text": [
      "101010\n"
     ]
    },
    {
     "data": {
      "text/plain": [
       "20"
      ]
     },
     "execution_count": 21,
     "metadata": {},
     "output_type": "execute_result"
    }
   ],
   "source": [
    "basetwo = functools.partial(int, base=2)\n",
    "\n",
    "print(int(\"101010\")) # defaults to base 10\n",
    "int(\"101010\", base=2)\n",
    "\n",
    "def my_function():\n",
    "    pass\n",
    "\n",
    "basetwo(\"10100\")"
   ]
  },
  {
   "attachments": {},
   "cell_type": "markdown",
   "metadata": {},
   "source": [
    "## Caching values\n",
    "\n",
    "`functools` offers a few methods to cache values. There are 5, but we'll just look at these two:\n",
    "\n",
    "- The `@cache` decorator, which stores the return value of a function for a given set of arguments. This is useful for speeding up deeply recursive functions. \n",
    "- The `@lru_cache` decorator, which is the same as `cache`, but it puts a limit on how big the cache can grow. If the cache is about to get too big, it drops the **L**east **R**ecently **U**sed value and adds the new one.\n",
    "\n",
    "Here's an example of how you might use `@cache`:\n",
    "\n",
    "(Note: remember that decorators are just functions that return other functions!)"
   ]
  },
  {
   "cell_type": "code",
   "execution_count": 24,
   "metadata": {},
   "outputs": [
    {
     "name": "stdout",
     "output_type": "stream",
     "text": [
      "11\n",
      "0\n",
      "2\n"
     ]
    },
    {
     "data": {
      "text/plain": [
       "{'maxsize': None, 'typed': False}"
      ]
     },
     "execution_count": 24,
     "metadata": {},
     "output_type": "execute_result"
    }
   ],
   "source": [
    "# Example from the docs:\n",
    "@functools.cache\n",
    "def factorial(n):\n",
    "    return n * factorial(n-1) if n else 1\n",
    "\n",
    "factorial(10)      # no previously cached result, makes 11 recursive calls\n",
    "factorial(5)       # just looks up cached value result\n",
    "factorial(12)      # makes two new recursive calls, the other 10 are cached\n",
    "\n",
    "\n",
    "# But let's prove it! We'll add a counter that gets incremented every time our function is called.\n",
    "@functools.cache\n",
    "def monitored_factorial(n):\n",
    "    global num_calls\n",
    "    # print(\"Called monitored_factorial with argument\", n)\n",
    "    num_calls += 1\n",
    "    return n * monitored_factorial(n-1) if n else 1\n",
    "\n",
    "num_calls = 0\n",
    "monitored_factorial(10)\n",
    "print(num_calls) # Should print 11\n",
    "\n",
    "\n",
    "num_calls = 0\n",
    "monitored_factorial(5)\n",
    "print(num_calls) # Should print 0\n",
    "\n",
    "num_calls = 0\n",
    "monitored_factorial(12)\n",
    "print(num_calls) # Should print 2\n"
   ]
  },
  {
   "attachments": {},
   "cell_type": "markdown",
   "metadata": {},
   "source": [
    "`@lru_cache` is similar, but it restricts the total number of cached items that can be stored. `@cache` is actually the equivalent of using `lru_cache` with `maxsize=None`. \n",
    "\n",
    "LRU caching is a good optimization to make when the results of the cached function are likely to favor a few commonly-requested values. For example, if your program reports the weather based on a location, you might want to cache the results for the user's local zip code, as well as a few nearby areas. \n"
   ]
  },
  {
   "cell_type": "code",
   "execution_count": 28,
   "metadata": {},
   "outputs": [
    {
     "name": "stdout",
     "output_type": "stream",
     "text": [
      "CacheInfo(hits=0, misses=1, maxsize=2, currsize=1)\n",
      "CacheInfo(hits=0, misses=2, maxsize=2, currsize=2)\n",
      "CacheInfo(hits=0, misses=3, maxsize=2, currsize=2)\n",
      "CacheInfo(hits=0, misses=4, maxsize=2, currsize=2)\n"
     ]
    }
   ],
   "source": [
    "# NOTE: to use this cell, you have to install theh `requests` library\n",
    "# and the 'toml' library (for pip, that's `pip install requests`)\n",
    "\n",
    "# You will also have to create a free account with tomorrow.io and get an api key\n",
    "\n",
    "import json\n",
    "import functools\n",
    "import requests\n",
    "import pprint\n",
    "import toml \n",
    "\n",
    "config = toml.load(\"secrets.toml\")\n",
    "BASE_URL = \"https://api.tomorrow.io/v4/timelines\"\n",
    "API_KEY = config[\"API_KEY\"]\n",
    "\n",
    "@functools.lru_cache(maxsize=2, typed=True)\n",
    "def request_weather(latitude, longitude):\n",
    "    querystring = {\n",
    "    \"location\": f\"{str(latitude)}, {str(longitude)}\", \n",
    "    \"fields\":[\"temperature\"],\n",
    "    \"units\":\"metric\",\n",
    "    \"timesteps\":\"1d\",\n",
    "    \"apikey\":API_KEY}\n",
    "\n",
    "    response = requests.request(\"GET\", BASE_URL, params=querystring)\n",
    "    return json.loads(response.text)\n",
    "\n",
    "request_weather(42, 71) # Boston\n",
    "print(request_weather.cache_info())\n",
    "\n",
    "request_weather(90, 135) # North Pole\n",
    "print(request_weather.cache_info())\n",
    "\n",
    "request_weather(0, 0) # Null Island\n",
    "print(request_weather.cache_info())\n",
    "\n",
    "request_weather(42, 71) # Boston again\n",
    "print(request_weather.cache_info())\n"
   ]
  },
  {
   "attachments": {},
   "cell_type": "markdown",
   "metadata": {},
   "source": [
    "If you need to, you can also clear the cache completely:"
   ]
  },
  {
   "cell_type": "code",
   "execution_count": null,
   "metadata": {},
   "outputs": [],
   "source": [
    "request_weather.cache_clear() # empty cache to start\n",
    "\n",
    "request_weather(42, 71) # Boston\n",
    "request_weather(0, 0)\n",
    "print(request_weather.cache_info()) # should print two misses and no hits\n",
    "request_weather(42, 71) # Boston \n",
    "print(request_weather.cache_info()) # should print one hit and the two misses from before\n",
    "\n",
    "request_weather.cache_clear()\n",
    "\n",
    "request_weather(42, 71) # Boston \n",
    "print(request_weather.cache_info()) # we expect to see one miss because the cache is empty again."
   ]
  },
  {
   "attachments": {},
   "cell_type": "markdown",
   "metadata": {},
   "source": [
    "`lru_cache` caches values based on function inputs, and by default it ignores type:"
   ]
  },
  {
   "cell_type": "code",
   "execution_count": null,
   "metadata": {},
   "outputs": [],
   "source": [
    "my_cache: {\n",
    "    (42, 71): \"cloudy\",\n",
    "    (0, 0): \"very cold\",\n",
    "    (0.0, 0): \"super cold\"\n",
    "}\n",
    "\n",
    "request_weather.cache_clear()\n",
    "\n",
    "request_weather(0, 0)\n",
    "print(request_weather.cache_info())\n",
    "request_weather(0.0, 0)\n",
    "request_weather(0.0, 0.0)\n",
    "\n",
    "# TODO: update after request limit expires\n"
   ]
  },
  {
   "attachments": {},
   "cell_type": "markdown",
   "metadata": {},
   "source": [
    "## Single Dispatch functions\n",
    "\n",
    "Some languages support *function overloading* natively, meaning you can define a function using the same name but different arguments, and at compile time, the correct implementation will be chosen based on which arguments are used. Here's an example in C++:\n",
    "\n",
    "```\n",
    "// Source: https://www.geeksforgeeks.org/function-overloading-c/\n",
    "#include <iostream>\n",
    "using namespace std;\n",
    " \n",
    "// this function definition accepts 2 ints\n",
    "void add(int a, int b)\n",
    "{\n",
    "  cout << \"sum = \" << (a + b);\n",
    "}\n",
    " \n",
    "// this one accepts two doubles\n",
    "void add(double a, double b)\n",
    "{\n",
    "    cout << endl << \"sum = \" << (a + b);\n",
    "}\n",
    " \n",
    "int main()\n",
    "{\n",
    "    // here, we don't have to specify which 'add' to use, it \"just works\"\n",
    "    add(10, 2);\n",
    "    add(5.3, 6.2);\n",
    " \n",
    "    return 0;\n",
    "}\n",
    "```\n",
    "\n",
    "Python lets you call a function with differently-typed arguments, but it's a kind of blind acceptance. The function won't behave any differently if you pass in arguments with incorrect types."
   ]
  },
  {
   "cell_type": "code",
   "execution_count": 30,
   "metadata": {},
   "outputs": [
    {
     "name": "stdout",
     "output_type": "stream",
     "text": [
      "3\n",
      "3.0\n",
      "12\n"
     ]
    }
   ],
   "source": [
    "def add(a, b):\n",
    "    return a + b\n",
    "\n",
    "# We can call this function with any arguments we'd like!\n",
    "print(add(1, 2)) # expect 3\n",
    "print(add(1.0, 2.0)) # expect 3.0\n",
    "print(add(\"1\", \"2\")) #...whoops, 12"
   ]
  },
  {
   "attachments": {},
   "cell_type": "markdown",
   "metadata": {},
   "source": [
    "This is where `singledispatch` comes in. In this framework, we can register a parent function to define the name/interface we want, then register multiple other variants to handle different argument types. At runtime, the interpeter will pick the appropriate function based on which arguments are passed in. \n",
    "\n",
    "This is function overloading! (with a few extra steps)"
   ]
  },
  {
   "cell_type": "code",
   "execution_count": 34,
   "metadata": {},
   "outputs": [
    {
     "name": "stdout",
     "output_type": "stream",
     "text": [
      "3\n",
      "strings\n",
      "3\n",
      "10\n"
     ]
    }
   ],
   "source": [
    "@functools.singledispatch\n",
    "def generic_add(a, b):\n",
    "    return a + b\n",
    "\n",
    "# called when string args are provided\n",
    "@generic_add.register\n",
    "def _(a:str, b:str):\n",
    "    print(\"strings\")\n",
    "    return int(a) + int(b)\n",
    "\n",
    "# called when list args are provided\n",
    "@generic_add.register(list)\n",
    "def _(a, b):\n",
    "    return sum(a + b)\n",
    "\n",
    "print(generic_add(1, 2))\n",
    "print(generic_add(\"1\", \"2\"))\n",
    "print(generic_add([1, 2], [3, 4]))\n"
   ]
  },
  {
   "attachments": {},
   "cell_type": "markdown",
   "metadata": {},
   "source": [
    "One important thing to note is that the interpreter will only look at the first argument to the generic function to choose the implementation to run. (this is no matter which version of type hinting you use. I was wrong about this in the presentation!)"
   ]
  },
  {
   "cell_type": "code",
   "execution_count": 36,
   "metadata": {},
   "outputs": [
    {
     "name": "stdout",
     "output_type": "stream",
     "text": [
      "strings\n"
     ]
    },
    {
     "data": {
      "text/plain": [
       "4"
      ]
     },
     "execution_count": 36,
     "metadata": {},
     "output_type": "execute_result"
    }
   ],
   "source": [
    "    \n",
    "generic_add(\"1\", 3) # this will choose the function that was registered for strings"
   ]
  },
  {
   "attachments": {},
   "cell_type": "markdown",
   "metadata": {},
   "source": [
    "But if we define the arguments with explicit type hints:"
   ]
  },
  {
   "cell_type": "code",
   "execution_count": null,
   "metadata": {},
   "outputs": [],
   "source": [
    "@generic_add.register\n",
    "def _(a: list, b: int):\n",
    "    return sum(a) + b\n",
    "\n",
    "generic_add([1], 2)"
   ]
  },
  {
   "attachments": {},
   "cell_type": "markdown",
   "metadata": {},
   "source": [
    "## That's all, folks!\n",
    "\n",
    "That's the end of the notebook, at least. Take a look at the `exercises` folder in [this repo](https://github.com/awordforthat/functools_demo) for practice!"
   ]
  }
 ],
 "metadata": {
  "kernelspec": {
   "display_name": "venv",
   "language": "python",
   "name": "python3"
  },
  "language_info": {
   "codemirror_mode": {
    "name": "ipython",
    "version": 3
   },
   "file_extension": ".py",
   "mimetype": "text/x-python",
   "name": "python",
   "nbconvert_exporter": "python",
   "pygments_lexer": "ipython3",
   "version": "3.11.3"
  },
  "orig_nbformat": 4
 },
 "nbformat": 4,
 "nbformat_minor": 2
}
